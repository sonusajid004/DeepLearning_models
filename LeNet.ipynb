{
  "nbformat": 4,
  "nbformat_minor": 0,
  "metadata": {
    "colab": {
      "name": "LeNet.ipynb",
      "provenance": [],
      "authorship_tag": "ABX9TyOIMwtg6myQfTSWY+f0mAAo",
      "include_colab_link": true
    },
    "kernelspec": {
      "name": "python3",
      "display_name": "Python 3"
    },
    "accelerator": "TPU"
  },
  "cells": [
    {
      "cell_type": "markdown",
      "metadata": {
        "id": "view-in-github",
        "colab_type": "text"
      },
      "source": [
        "<a href=\"https://colab.research.google.com/github/sonusajid004/DeepLearning_models/blob/master/LeNet.ipynb\" target=\"_parent\"><img src=\"https://colab.research.google.com/assets/colab-badge.svg\" alt=\"Open In Colab\"/></a>"
      ]
    },
    {
      "cell_type": "markdown",
      "metadata": {
        "id": "-xt_yAXmGU84",
        "colab_type": "text"
      },
      "source": [
        "Here i am using Lenet to categorize digits i.e. use MNIST dataset.\n",
        "\n",
        "\n",
        "Letnet's architechture is ..\n",
        "\n",
        "[Image Source](https://engmrk.com/lenet-5-a-classic-cnn-architecture/)\n",
        "\n",
        "![Lenet Summary ](https://engmrk.com/wp-content/uploads/2018/09/LeNEt_Summary_Table.jpg)\n"
      ]
    },
    {
      "cell_type": "code",
      "metadata": {
        "id": "cKXtE8RpGREJ",
        "colab_type": "code",
        "colab": {}
      },
      "source": [
        "import keras\n",
        "from keras import layers\n",
        "\n",
        "\n",
        "\n",
        "model = keras.Sequential()\n",
        "\n",
        "model.add(layers.Conv2D(filters=6, kernel_size=(3, 3), activation='relu',kernel_initializer=\"he_uniform\" ,input_shape=(28,28,1)))\n",
        "model.add(layers.AveragePooling2D())\n",
        "\n",
        "model.add(layers.Conv2D(filters=16, kernel_size=(3, 3), activation='relu',kernel_initializer=\"he_uniform\"))\n",
        "model.add(layers.AveragePooling2D())\n",
        "\n",
        "model.add(layers.Conv2D(filters=16, kernel_size=(3, 3), activation='relu',kernel_initializer=\"he_uniform\"))\n",
        "model.add(layers.AveragePooling2D())\n",
        "\n",
        "\n",
        "model.add(layers.Flatten())\n",
        "\n",
        "model.add(layers.Dense(units=120, activation='relu'))\n",
        "\n",
        "model.add(layers.Dense(units=84, activation='relu'))\n",
        "\n",
        "model.add(layers.Dense(units=10, activation = 'softmax'))"
      ],
      "execution_count": 14,
      "outputs": []
    },
    {
      "cell_type": "code",
      "metadata": {
        "id": "gFEnb0wGIcvq",
        "colab_type": "code",
        "colab": {
          "base_uri": "https://localhost:8080/",
          "height": 544
        },
        "outputId": "ae0f7f99-2456-41fe-9452-7e6c0da0cb9c"
      },
      "source": [
        "print(model.summary())"
      ],
      "execution_count": 15,
      "outputs": [
        {
          "output_type": "stream",
          "text": [
            "Model: \"sequential_5\"\n",
            "_________________________________________________________________\n",
            "Layer (type)                 Output Shape              Param #   \n",
            "=================================================================\n",
            "conv2d_8 (Conv2D)            (None, 26, 26, 6)         60        \n",
            "_________________________________________________________________\n",
            "average_pooling2d_7 (Average (None, 13, 13, 6)         0         \n",
            "_________________________________________________________________\n",
            "conv2d_9 (Conv2D)            (None, 11, 11, 16)        880       \n",
            "_________________________________________________________________\n",
            "average_pooling2d_8 (Average (None, 5, 5, 16)          0         \n",
            "_________________________________________________________________\n",
            "conv2d_10 (Conv2D)           (None, 3, 3, 16)          2320      \n",
            "_________________________________________________________________\n",
            "average_pooling2d_9 (Average (None, 1, 1, 16)          0         \n",
            "_________________________________________________________________\n",
            "flatten_4 (Flatten)          (None, 16)                0         \n",
            "_________________________________________________________________\n",
            "dense_10 (Dense)             (None, 120)               2040      \n",
            "_________________________________________________________________\n",
            "dense_11 (Dense)             (None, 84)                10164     \n",
            "_________________________________________________________________\n",
            "dense_12 (Dense)             (None, 10)                850       \n",
            "=================================================================\n",
            "Total params: 16,314\n",
            "Trainable params: 16,314\n",
            "Non-trainable params: 0\n",
            "_________________________________________________________________\n",
            "None\n"
          ],
          "name": "stdout"
        }
      ]
    },
    {
      "cell_type": "code",
      "metadata": {
        "id": "wrPz4rLOIlZO",
        "colab_type": "code",
        "colab": {}
      },
      "source": [
        "##Loading Data\n",
        "\n",
        "\n",
        "from keras.preprocessing.image import ImageDataGenerator\n",
        "from keras.models import Sequential\n",
        "from keras.layers import Dense, Dropout, Activation, Flatten\n",
        "from keras.layers import Conv2D, MaxPooling2D, ZeroPadding2D\n",
        "from keras.layers.normalization import BatchNormalization\n",
        "from keras.regularizers import l2\n",
        "from keras.datasets import mnist\n",
        "from keras.utils import np_utils\n",
        "import keras\n",
        "\n",
        "# loads the MNIST dataset\n",
        "(x_train, y_train), (x_test, y_test)  = mnist.load_data()\n",
        "\n",
        "# Lets store the number of rows and columns\n",
        "img_rows = x_train[0].shape[0]\n",
        "img_cols = x_train[1].shape[0]\n",
        "\n",
        "# Getting our date in the right 'shape' needed for Keras\n",
        "# We need to add a 4th dimenion to our date thereby changing our\n",
        "# Our original image shape of (60000,28,28) to (60000,28,28,1)\n",
        "x_train = x_train.reshape(x_train.shape[0], img_rows, img_cols, 1)\n",
        "x_test = x_test.reshape(x_test.shape[0], img_rows, img_cols, 1)\n",
        "\n",
        "# store the shape of a single image \n",
        "input_shape = (img_rows, img_cols, 1)\n",
        "\n",
        "# change our image type to float32 data type\n",
        "x_train = x_train.astype('float32')\n",
        "x_test = x_test.astype('float32')\n",
        "\n",
        "# Normalize our data by changing the range from (0 to 255) to (0 to 1)\n",
        "x_train /= 255\n",
        "x_test /= 255\n",
        "\n",
        "# Now we one hot encode outputs\n",
        "y_train = np_utils.to_categorical(y_train)\n",
        "y_test = np_utils.to_categorical(y_test)\n",
        "\n",
        "num_classes = y_test.shape[1]\n",
        "num_pixels = x_train.shape[1] * x_train.shape[2]"
      ],
      "execution_count": 16,
      "outputs": []
    },
    {
      "cell_type": "code",
      "metadata": {
        "id": "F_zvoFHfIsFP",
        "colab_type": "code",
        "colab": {
          "base_uri": "https://localhost:8080/",
          "height": 1000
        },
        "outputId": "cb716ebe-9329-4f4d-bdc2-38067d9da3ad"
      },
      "source": [
        "# Training Parameters\n",
        "batch_size = 128\n",
        "epochs = 20\n",
        "from keras.optimizers import RMSprop, SGD, Adam\n",
        "from keras.callbacks import ModelCheckpoint, EarlyStopping, ReduceLROnPlateau\n",
        "\n",
        "                     \n",
        "checkpoint = ModelCheckpoint(\"./lenet.h5\",\n",
        "                             monitor=\"val_loss\",\n",
        "                             mode=\"min\",\n",
        "                             save_best_only = True,\n",
        "                             verbose=1)\n",
        "\n",
        "earlystop = EarlyStopping(monitor = 'val_loss', \n",
        "                          min_delta = 0, \n",
        "                          patience = 3,\n",
        "                          verbose = 1,\n",
        "                          restore_best_weights = True)\n",
        "\n",
        "reduce_lr = ReduceLROnPlateau(monitor = 'val_loss', factor = 0.2, patience = 3, verbose = 1, min_delta = 0.0001)\n",
        "\n",
        "# we put our call backs into a callback list\n",
        "callbacks = [earlystop, checkpoint, reduce_lr]\n",
        "\n",
        "# We use a very small learning rate \n",
        "\n",
        "\n",
        "model.compile(loss = 'categorical_crossentropy',\n",
        "              optimizer = keras.optimizers.Adadelta(),\n",
        "              metrics = ['accuracy'])\n",
        "history = model.fit(x_train, y_train,\n",
        "                      callbacks=callbacks,\n",
        "          batch_size=batch_size,\n",
        "          epochs=epochs,\n",
        "          validation_data=(x_test, y_test),\n",
        "          shuffle=True)\n",
        "\n",
        "model.save(\"./mnist_LeNet.h5\")\n",
        "\n",
        "# Evaluate the performance of our trained model\n",
        "scores = model.evaluate(x_test, y_test, verbose=1)\n",
        "print('Test loss:', scores[0])\n",
        "print('Test accuracy:', scores[1])"
      ],
      "execution_count": 18,
      "outputs": [
        {
          "output_type": "stream",
          "text": [
            "Train on 60000 samples, validate on 10000 samples\n",
            "Epoch 1/20\n",
            "60000/60000 [==============================] - 20s 327us/step - loss: 0.2473 - accuracy: 0.9243 - val_loss: 0.1798 - val_accuracy: 0.9429\n",
            "\n",
            "Epoch 00001: val_loss improved from inf to 0.17975, saving model to ./lenet.h5\n",
            "Epoch 2/20\n",
            "60000/60000 [==============================] - 19s 324us/step - loss: 0.1730 - accuracy: 0.9471 - val_loss: 0.1545 - val_accuracy: 0.9504\n",
            "\n",
            "Epoch 00002: val_loss improved from 0.17975 to 0.15448, saving model to ./lenet.h5\n",
            "Epoch 3/20\n",
            "60000/60000 [==============================] - 19s 325us/step - loss: 0.1422 - accuracy: 0.9561 - val_loss: 0.1251 - val_accuracy: 0.9604\n",
            "\n",
            "Epoch 00003: val_loss improved from 0.15448 to 0.12512, saving model to ./lenet.h5\n",
            "Epoch 4/20\n",
            "60000/60000 [==============================] - 20s 326us/step - loss: 0.1240 - accuracy: 0.9618 - val_loss: 0.1052 - val_accuracy: 0.9670\n",
            "\n",
            "Epoch 00004: val_loss improved from 0.12512 to 0.10521, saving model to ./lenet.h5\n",
            "Epoch 5/20\n",
            "60000/60000 [==============================] - 20s 326us/step - loss: 0.1110 - accuracy: 0.9654 - val_loss: 0.1045 - val_accuracy: 0.9654\n",
            "\n",
            "Epoch 00005: val_loss improved from 0.10521 to 0.10454, saving model to ./lenet.h5\n",
            "Epoch 6/20\n",
            "60000/60000 [==============================] - 20s 326us/step - loss: 0.1015 - accuracy: 0.9679 - val_loss: 0.1082 - val_accuracy: 0.9656\n",
            "\n",
            "Epoch 00006: val_loss did not improve from 0.10454\n",
            "Epoch 7/20\n",
            "60000/60000 [==============================] - 20s 327us/step - loss: 0.0945 - accuracy: 0.9713 - val_loss: 0.0817 - val_accuracy: 0.9745\n",
            "\n",
            "Epoch 00007: val_loss improved from 0.10454 to 0.08165, saving model to ./lenet.h5\n",
            "Epoch 8/20\n",
            "60000/60000 [==============================] - 20s 326us/step - loss: 0.0891 - accuracy: 0.9723 - val_loss: 0.1012 - val_accuracy: 0.9664\n",
            "\n",
            "Epoch 00008: val_loss did not improve from 0.08165\n",
            "Epoch 9/20\n",
            "60000/60000 [==============================] - 20s 325us/step - loss: 0.0829 - accuracy: 0.9746 - val_loss: 0.0800 - val_accuracy: 0.9747\n",
            "\n",
            "Epoch 00009: val_loss improved from 0.08165 to 0.08004, saving model to ./lenet.h5\n",
            "Epoch 10/20\n",
            "60000/60000 [==============================] - 20s 325us/step - loss: 0.0779 - accuracy: 0.9759 - val_loss: 0.0810 - val_accuracy: 0.9739\n",
            "\n",
            "Epoch 00010: val_loss did not improve from 0.08004\n",
            "Epoch 11/20\n",
            "60000/60000 [==============================] - 20s 326us/step - loss: 0.0734 - accuracy: 0.9762 - val_loss: 0.0707 - val_accuracy: 0.9784\n",
            "\n",
            "Epoch 00011: val_loss improved from 0.08004 to 0.07071, saving model to ./lenet.h5\n",
            "Epoch 12/20\n",
            "60000/60000 [==============================] - 20s 328us/step - loss: 0.0700 - accuracy: 0.9776 - val_loss: 0.0677 - val_accuracy: 0.9781\n",
            "\n",
            "Epoch 00012: val_loss improved from 0.07071 to 0.06772, saving model to ./lenet.h5\n",
            "Epoch 13/20\n",
            "60000/60000 [==============================] - 20s 330us/step - loss: 0.0671 - accuracy: 0.9791 - val_loss: 0.0683 - val_accuracy: 0.9793\n",
            "\n",
            "Epoch 00013: val_loss did not improve from 0.06772\n",
            "Epoch 14/20\n",
            "60000/60000 [==============================] - 20s 329us/step - loss: 0.0628 - accuracy: 0.9803 - val_loss: 0.0659 - val_accuracy: 0.9806\n",
            "\n",
            "Epoch 00014: val_loss improved from 0.06772 to 0.06589, saving model to ./lenet.h5\n",
            "Epoch 15/20\n",
            "60000/60000 [==============================] - 20s 329us/step - loss: 0.0608 - accuracy: 0.9809 - val_loss: 0.0603 - val_accuracy: 0.9817\n",
            "\n",
            "Epoch 00015: val_loss improved from 0.06589 to 0.06034, saving model to ./lenet.h5\n",
            "Epoch 16/20\n",
            "60000/60000 [==============================] - 20s 327us/step - loss: 0.0582 - accuracy: 0.9818 - val_loss: 0.0603 - val_accuracy: 0.9814\n",
            "\n",
            "Epoch 00016: val_loss did not improve from 0.06034\n",
            "Epoch 17/20\n",
            "60000/60000 [==============================] - 20s 327us/step - loss: 0.0558 - accuracy: 0.9821 - val_loss: 0.0655 - val_accuracy: 0.9798\n",
            "\n",
            "Epoch 00017: val_loss did not improve from 0.06034\n",
            "Epoch 18/20\n",
            "60000/60000 [==============================] - 20s 327us/step - loss: 0.0541 - accuracy: 0.9829 - val_loss: 0.0619 - val_accuracy: 0.9811\n",
            "Restoring model weights from the end of the best epoch\n",
            "\n",
            "Epoch 00018: val_loss did not improve from 0.06034\n",
            "\n",
            "Epoch 00018: ReduceLROnPlateau reducing learning rate to 0.2.\n",
            "Epoch 00018: early stopping\n",
            "10000/10000 [==============================] - 2s 190us/step\n",
            "Test loss: 0.06033637920781039\n",
            "Test accuracy: 0.9817000031471252\n"
          ],
          "name": "stdout"
        }
      ]
    },
    {
      "cell_type": "code",
      "metadata": {
        "id": "0-Vj7f4vI8GY",
        "colab_type": "code",
        "colab": {
          "base_uri": "https://localhost:8080/",
          "height": 999
        },
        "outputId": "1c4289d1-2479-4c93-adb7-ebf90004f0cf"
      },
      "source": [
        "import matplotlib.pyplot as plt\n",
        "import sklearn\n",
        "from sklearn.metrics import classification_report, confusion_matrix\n",
        "import numpy as np\n",
        "\n",
        "nb_train_samples = 28273\n",
        "nb_validation_samples = 3534\n",
        "\n",
        "#Confution Matrix and Classification Report\n",
        "y_pred = model.predict(x_test)\n",
        "y_pred = np.argmax(y_pred, axis=1)\n",
        "\n",
        "print('Confusion Matrix')\n",
        "print(confusion_matrix(np.argmax(y_test,axis=1), y_pred))\n",
        "print('Classification Report')\n",
        "print(classification_report(np.argmax(y_test,axis=1), y_pred))\n",
        "\n",
        "plt.figure(figsize=(8,8))\n",
        "cnf_matrix = confusion_matrix(np.argmax(y_test,axis=1), y_pred)\n",
        "\n",
        "plt.imshow(cnf_matrix, interpolation='nearest')\n",
        "plt.colorbar()\n",
        "tick_marks = np.arange(10)\n",
        "_ = plt.xticks(tick_marks, np.arange(10), rotation=90)\n",
        "_ = plt.yticks(tick_marks, np.arange(10))"
      ],
      "execution_count": 29,
      "outputs": [
        {
          "output_type": "stream",
          "text": [
            "Confusion Matrix\n",
            "[[ 968    0    1    0    0    2    2    1    3    3]\n",
            " [   0 1134    0    0    0    1    0    0    0    0]\n",
            " [   3    1 1009    1    1    3    1    6    7    0]\n",
            " [   0    0    2  994    0    8    0    3    2    1]\n",
            " [   1    0    2    1  960    0    3    1    2   12]\n",
            " [   1    0    0    2    0  883    2    1    3    0]\n",
            " [   2    3    0    0    1    5  945    0    2    0]\n",
            " [   1    4   19   13    0    1    0  986    3    1]\n",
            " [   1    0    2    3    2    2    1    1  961    1]\n",
            " [   3    0    0    1    3    9    1    3   12  977]]\n",
            "Classification Report\n",
            "              precision    recall  f1-score   support\n",
            "\n",
            "           0       0.99      0.99      0.99       980\n",
            "           1       0.99      1.00      1.00      1135\n",
            "           2       0.97      0.98      0.98      1032\n",
            "           3       0.98      0.98      0.98      1010\n",
            "           4       0.99      0.98      0.99       982\n",
            "           5       0.97      0.99      0.98       892\n",
            "           6       0.99      0.99      0.99       958\n",
            "           7       0.98      0.96      0.97      1028\n",
            "           8       0.97      0.99      0.98       974\n",
            "           9       0.98      0.97      0.98      1009\n",
            "\n",
            "    accuracy                           0.98     10000\n",
            "   macro avg       0.98      0.98      0.98     10000\n",
            "weighted avg       0.98      0.98      0.98     10000\n",
            "\n"
          ],
          "name": "stdout"
        },
        {
          "output_type": "display_data",
          "data": {
            "image/png": "[encoded data removed]",
            "text/plain": [
              "<Figure size 576x576 with 2 Axes>"
            ]
          },
          "metadata": {
            "tags": [],
            "needs_background": "light"
          }
        }
      ]
    },
    {
      "cell_type": "code",
      "metadata": {
        "id": "t3mtEE2j7XfI",
        "colab_type": "code",
        "colab": {
          "base_uri": "https://localhost:8080/",
          "height": 35
        },
        "outputId": "1b6e53c1-6715-405f-e3bb-92fb75d76ef7"
      },
      "source": [
        ""
      ],
      "execution_count": 25,
      "outputs": [
        {
          "output_type": "execute_result",
          "data": {
            "text/plain": [
              "(10000, 10)"
            ]
          },
          "metadata": {
            "tags": []
          },
          "execution_count": 25
        }
      ]
    },
    {
      "cell_type": "code",
      "metadata": {
        "id": "ctJu9Or372Xy",
        "colab_type": "code",
        "colab": {
          "base_uri": "https://localhost:8080/",
          "height": 35
        },
        "outputId": "34e8e0f7-16c1-43bc-8164-078f2744724c"
      },
      "source": [
        ""
      ],
      "execution_count": 26,
      "outputs": [
        {
          "output_type": "execute_result",
          "data": {
            "text/plain": [
              "(10000,)"
            ]
          },
          "metadata": {
            "tags": []
          },
          "execution_count": 26
        }
      ]
    },
    {
      "cell_type": "code",
      "metadata": {
        "id": "ajvHy-Eg732M",
        "colab_type": "code",
        "colab": {}
      },
      "source": [
        ""
      ],
      "execution_count": null,
      "outputs": []
    }
  ]
}