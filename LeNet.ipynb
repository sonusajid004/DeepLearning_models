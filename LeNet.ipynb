{
  "nbformat": 4,
  "nbformat_minor": 0,
  "metadata": {
    "colab": {
      "name": "LeNet.ipynb",
      "provenance": [],
      "authorship_tag": "ABX9TyNZnTerwiIgvK/ECT/M1d6t",
      "include_colab_link": true
    },
    "kernelspec": {
      "name": "python3",
      "display_name": "Python 3"
    },
    "accelerator": "TPU"
  },
  "cells": [
    {
      "cell_type": "markdown",
      "metadata": {
        "id": "view-in-github",
        "colab_type": "text"
      },
      "source": [
        "<a href=\"https://colab.research.google.com/github/sonusajid004/DeepLearning_models/blob/master/LeNet.ipynb\" target=\"_parent\"><img src=\"https://colab.research.google.com/assets/colab-badge.svg\" alt=\"Open In Colab\"/></a>"
      ]
    },
    {
      "cell_type": "markdown",
      "metadata": {
        "id": "-xt_yAXmGU84",
        "colab_type": "text"
      },
      "source": [
        "Here i am using Lenet to categorize digits i.e. use MNIST dataset.\n",
        "\n",
        "\n",
        "Letnet's architechture is ..\n",
        "\n",
        "[Image Source](https://engmrk.com/lenet-5-a-classic-cnn-architecture/)\n",
        "\n",
        "![Lenet Summary ](https://engmrk.com/wp-content/uploads/2018/09/LeNEt_Summary_Table.jpg)\n"
      ]
    },
    {
      "cell_type": "code",
      "metadata": {
        "id": "cKXtE8RpGREJ",
        "colab_type": "code",
        "colab": {}
      },
      "source": [
        "import keras\n",
        "from keras import layers\n",
        "\n",
        "\n",
        "\n",
        "model = keras.Sequential()\n",
        "\n",
        "model.add(layers.Conv2D(filters=6, kernel_size=(3, 3), activation='relu', input_shape=(28,28,1)))\n",
        "model.add(layers.AveragePooling2D())\n",
        "\n",
        "model.add(layers.Conv2D(filters=16, kernel_size=(3, 3), activation='relu'))\n",
        "model.add(layers.AveragePooling2D())\n",
        "\n",
        "model.add(layers.Flatten())\n",
        "\n",
        "model.add(layers.Dense(units=120, activation='relu'))\n",
        "\n",
        "model.add(layers.Dense(units=84, activation='relu'))\n",
        "\n",
        "model.add(layers.Dense(units=10, activation = 'softmax'))"
      ],
      "execution_count": 6,
      "outputs": []
    },
    {
      "cell_type": "code",
      "metadata": {
        "id": "gFEnb0wGIcvq",
        "colab_type": "code",
        "colab": {
          "base_uri": "https://localhost:8080/",
          "height": 471
        },
        "outputId": "62b62a20-2e1c-461e-ee3b-7fa6f1b1ce3b"
      },
      "source": [
        "print(model.summary())"
      ],
      "execution_count": 7,
      "outputs": [
        {
          "output_type": "stream",
          "text": [
            "Model: \"sequential_2\"\n",
            "_________________________________________________________________\n",
            "Layer (type)                 Output Shape              Param #   \n",
            "=================================================================\n",
            "conv2d_3 (Conv2D)            (None, 26, 26, 6)         60        \n",
            "_________________________________________________________________\n",
            "average_pooling2d_3 (Average (None, 13, 13, 6)         0         \n",
            "_________________________________________________________________\n",
            "conv2d_4 (Conv2D)            (None, 11, 11, 16)        880       \n",
            "_________________________________________________________________\n",
            "average_pooling2d_4 (Average (None, 5, 5, 16)          0         \n",
            "_________________________________________________________________\n",
            "flatten_2 (Flatten)          (None, 400)               0         \n",
            "_________________________________________________________________\n",
            "dense_4 (Dense)              (None, 120)               48120     \n",
            "_________________________________________________________________\n",
            "dense_5 (Dense)              (None, 84)                10164     \n",
            "_________________________________________________________________\n",
            "dense_6 (Dense)              (None, 10)                850       \n",
            "=================================================================\n",
            "Total params: 60,074\n",
            "Trainable params: 60,074\n",
            "Non-trainable params: 0\n",
            "_________________________________________________________________\n",
            "None\n"
          ],
          "name": "stdout"
        }
      ]
    },
    {
      "cell_type": "code",
      "metadata": {
        "id": "wrPz4rLOIlZO",
        "colab_type": "code",
        "colab": {}
      },
      "source": [
        "##Loading Data\n",
        "\n",
        "\n",
        "from keras.preprocessing.image import ImageDataGenerator\n",
        "from keras.models import Sequential\n",
        "from keras.layers import Dense, Dropout, Activation, Flatten\n",
        "from keras.layers import Conv2D, MaxPooling2D, ZeroPadding2D\n",
        "from keras.layers.normalization import BatchNormalization\n",
        "from keras.regularizers import l2\n",
        "from keras.datasets import mnist\n",
        "from keras.utils import np_utils\n",
        "import keras\n",
        "\n",
        "# loads the MNIST dataset\n",
        "(x_train, y_train), (x_test, y_test)  = mnist.load_data()\n",
        "\n",
        "# Lets store the number of rows and columns\n",
        "img_rows = x_train[0].shape[0]\n",
        "img_cols = x_train[1].shape[0]\n",
        "\n",
        "# Getting our date in the right 'shape' needed for Keras\n",
        "# We need to add a 4th dimenion to our date thereby changing our\n",
        "# Our original image shape of (60000,28,28) to (60000,28,28,1)\n",
        "x_train = x_train.reshape(x_train.shape[0], img_rows, img_cols, 1)\n",
        "x_test = x_test.reshape(x_test.shape[0], img_rows, img_cols, 1)\n",
        "\n",
        "# store the shape of a single image \n",
        "input_shape = (img_rows, img_cols, 1)\n",
        "\n",
        "# change our image type to float32 data type\n",
        "x_train = x_train.astype('float32')\n",
        "x_test = x_test.astype('float32')\n",
        "\n",
        "# Normalize our data by changing the range from (0 to 255) to (0 to 1)\n",
        "x_train /= 255\n",
        "x_test /= 255\n",
        "\n",
        "# Now we one hot encode outputs\n",
        "y_train = np_utils.to_categorical(y_train)\n",
        "y_test = np_utils.to_categorical(y_test)\n",
        "\n",
        "num_classes = y_test.shape[1]\n",
        "num_pixels = x_train.shape[1] * x_train.shape[2]"
      ],
      "execution_count": 8,
      "outputs": []
    },
    {
      "cell_type": "code",
      "metadata": {
        "id": "F_zvoFHfIsFP",
        "colab_type": "code",
        "colab": {
          "base_uri": "https://localhost:8080/",
          "height": 473
        },
        "outputId": "6ab13a9a-917f-4001-b41b-b6f8ee8f3d5a"
      },
      "source": [
        "# Training Parameters\n",
        "batch_size = 128\n",
        "epochs = 10\n",
        "model.compile(loss = 'categorical_crossentropy',\n",
        "              optimizer = keras.optimizers.Adadelta(),\n",
        "              metrics = ['accuracy'])\n",
        "history = model.fit(x_train, y_train,\n",
        "          batch_size=batch_size,\n",
        "          epochs=epochs,\n",
        "          validation_data=(x_test, y_test),\n",
        "          shuffle=True)\n",
        "\n",
        "model.save(\"./mnist_LeNet.h5\")\n",
        "\n",
        "# Evaluate the performance of our trained model\n",
        "scores = model.evaluate(x_test, y_test, verbose=1)\n",
        "print('Test loss:', scores[0])\n",
        "print('Test accuracy:', scores[1])"
      ],
      "execution_count": 9,
      "outputs": [
        {
          "output_type": "stream",
          "text": [
            "Train on 60000 samples, validate on 10000 samples\n",
            "Epoch 1/10\n",
            "60000/60000 [==============================] - 18s 298us/step - loss: 0.3477 - accuracy: 0.8920 - val_loss: 0.1040 - val_accuracy: 0.9680\n",
            "Epoch 2/10\n",
            "60000/60000 [==============================] - 18s 294us/step - loss: 0.0963 - accuracy: 0.9712 - val_loss: 0.0681 - val_accuracy: 0.9787\n",
            "Epoch 3/10\n",
            "60000/60000 [==============================] - 17s 291us/step - loss: 0.0708 - accuracy: 0.9784 - val_loss: 0.0569 - val_accuracy: 0.9818\n",
            "Epoch 4/10\n",
            "60000/60000 [==============================] - 18s 293us/step - loss: 0.0564 - accuracy: 0.9824 - val_loss: 0.0607 - val_accuracy: 0.9794\n",
            "Epoch 5/10\n",
            "60000/60000 [==============================] - 18s 294us/step - loss: 0.0465 - accuracy: 0.9853 - val_loss: 0.0450 - val_accuracy: 0.9856\n",
            "Epoch 6/10\n",
            "60000/60000 [==============================] - 18s 298us/step - loss: 0.0387 - accuracy: 0.9881 - val_loss: 0.0401 - val_accuracy: 0.9865\n",
            "Epoch 7/10\n",
            "60000/60000 [==============================] - 18s 296us/step - loss: 0.0334 - accuracy: 0.9893 - val_loss: 0.0364 - val_accuracy: 0.9877\n",
            "Epoch 8/10\n",
            "60000/60000 [==============================] - 18s 296us/step - loss: 0.0293 - accuracy: 0.9910 - val_loss: 0.0371 - val_accuracy: 0.9877\n",
            "Epoch 9/10\n",
            "60000/60000 [==============================] - 18s 296us/step - loss: 0.0258 - accuracy: 0.9918 - val_loss: 0.0396 - val_accuracy: 0.9877\n",
            "Epoch 10/10\n",
            "60000/60000 [==============================] - 18s 295us/step - loss: 0.0237 - accuracy: 0.9926 - val_loss: 0.0403 - val_accuracy: 0.9874\n",
            "10000/10000 [==============================] - 2s 165us/step\n",
            "Test loss: 0.0403129610096541\n",
            "Test accuracy: 0.9873999953269958\n"
          ],
          "name": "stdout"
        }
      ]
    },
    {
      "cell_type": "code",
      "metadata": {
        "id": "0-Vj7f4vI8GY",
        "colab_type": "code",
        "colab": {}
      },
      "source": [
        ""
      ],
      "execution_count": null,
      "outputs": []
    }
  ]
}